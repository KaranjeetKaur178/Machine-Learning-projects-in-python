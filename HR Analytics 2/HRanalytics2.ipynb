{
 "cells": [
  {
   "cell_type": "code",
   "execution_count": 132,
   "metadata": {},
   "outputs": [
    {
     "data": {
      "text/plain": [
       "Index(['employee_id', 'department', 'region', 'education', 'gender',\n",
       "       'recruitment_channel', 'no_of_trainings', 'age', 'previous_year_rating',\n",
       "       'length_of_service', 'KPIs_met >80%', 'awards_won?',\n",
       "       'avg_training_score', 'is_promoted'],\n",
       "      dtype='object')"
      ]
     },
     "execution_count": 132,
     "metadata": {},
     "output_type": "execute_result"
    }
   ],
   "source": [
    "import numpy as np\n",
    "import pandas as pd \n",
    "train = pd.read_csv(r'C:\\Users\\Lenovo\\Downloads\\train_LZdllcl.csv')\n",
    "test = pd.read_csv(r'Downloads\\test_2umaH9m.csv')\n",
    "train.columns"
   ]
  },
  {
   "cell_type": "code",
   "execution_count": 133,
   "metadata": {},
   "outputs": [
    {
     "data": {
      "text/html": [
       "<div>\n",
       "<style scoped>\n",
       "    .dataframe tbody tr th:only-of-type {\n",
       "        vertical-align: middle;\n",
       "    }\n",
       "\n",
       "    .dataframe tbody tr th {\n",
       "        vertical-align: top;\n",
       "    }\n",
       "\n",
       "    .dataframe thead th {\n",
       "        text-align: right;\n",
       "    }\n",
       "</style>\n",
       "<table border=\"1\" class=\"dataframe\">\n",
       "  <thead>\n",
       "    <tr style=\"text-align: right;\">\n",
       "      <th></th>\n",
       "      <th>employee_id</th>\n",
       "      <th>department</th>\n",
       "      <th>region</th>\n",
       "      <th>education</th>\n",
       "      <th>gender</th>\n",
       "      <th>recruitment_channel</th>\n",
       "      <th>no_of_trainings</th>\n",
       "      <th>age</th>\n",
       "      <th>previous_year_rating</th>\n",
       "      <th>length_of_service</th>\n",
       "      <th>KPIs_met &gt;80%</th>\n",
       "      <th>awards_won?</th>\n",
       "      <th>avg_training_score</th>\n",
       "      <th>is_promoted</th>\n",
       "    </tr>\n",
       "  </thead>\n",
       "  <tbody>\n",
       "    <tr>\n",
       "      <th>0</th>\n",
       "      <td>65438</td>\n",
       "      <td>Sales &amp; Marketing</td>\n",
       "      <td>region_7</td>\n",
       "      <td>Master's &amp; above</td>\n",
       "      <td>f</td>\n",
       "      <td>sourcing</td>\n",
       "      <td>1</td>\n",
       "      <td>35</td>\n",
       "      <td>5.0</td>\n",
       "      <td>8</td>\n",
       "      <td>1</td>\n",
       "      <td>0</td>\n",
       "      <td>49</td>\n",
       "      <td>0</td>\n",
       "    </tr>\n",
       "    <tr>\n",
       "      <th>1</th>\n",
       "      <td>65141</td>\n",
       "      <td>Operations</td>\n",
       "      <td>region_22</td>\n",
       "      <td>Bachelor's</td>\n",
       "      <td>m</td>\n",
       "      <td>other</td>\n",
       "      <td>1</td>\n",
       "      <td>30</td>\n",
       "      <td>5.0</td>\n",
       "      <td>4</td>\n",
       "      <td>0</td>\n",
       "      <td>0</td>\n",
       "      <td>60</td>\n",
       "      <td>0</td>\n",
       "    </tr>\n",
       "    <tr>\n",
       "      <th>2</th>\n",
       "      <td>7513</td>\n",
       "      <td>Sales &amp; Marketing</td>\n",
       "      <td>region_19</td>\n",
       "      <td>Bachelor's</td>\n",
       "      <td>m</td>\n",
       "      <td>sourcing</td>\n",
       "      <td>1</td>\n",
       "      <td>34</td>\n",
       "      <td>3.0</td>\n",
       "      <td>7</td>\n",
       "      <td>0</td>\n",
       "      <td>0</td>\n",
       "      <td>50</td>\n",
       "      <td>0</td>\n",
       "    </tr>\n",
       "    <tr>\n",
       "      <th>3</th>\n",
       "      <td>2542</td>\n",
       "      <td>Sales &amp; Marketing</td>\n",
       "      <td>region_23</td>\n",
       "      <td>Bachelor's</td>\n",
       "      <td>m</td>\n",
       "      <td>other</td>\n",
       "      <td>2</td>\n",
       "      <td>39</td>\n",
       "      <td>1.0</td>\n",
       "      <td>10</td>\n",
       "      <td>0</td>\n",
       "      <td>0</td>\n",
       "      <td>50</td>\n",
       "      <td>0</td>\n",
       "    </tr>\n",
       "    <tr>\n",
       "      <th>4</th>\n",
       "      <td>48945</td>\n",
       "      <td>Technology</td>\n",
       "      <td>region_26</td>\n",
       "      <td>Bachelor's</td>\n",
       "      <td>m</td>\n",
       "      <td>other</td>\n",
       "      <td>1</td>\n",
       "      <td>45</td>\n",
       "      <td>3.0</td>\n",
       "      <td>2</td>\n",
       "      <td>0</td>\n",
       "      <td>0</td>\n",
       "      <td>73</td>\n",
       "      <td>0</td>\n",
       "    </tr>\n",
       "  </tbody>\n",
       "</table>\n",
       "</div>"
      ],
      "text/plain": [
       "   employee_id         department     region         education gender  \\\n",
       "0        65438  Sales & Marketing   region_7  Master's & above      f   \n",
       "1        65141         Operations  region_22        Bachelor's      m   \n",
       "2         7513  Sales & Marketing  region_19        Bachelor's      m   \n",
       "3         2542  Sales & Marketing  region_23        Bachelor's      m   \n",
       "4        48945         Technology  region_26        Bachelor's      m   \n",
       "\n",
       "  recruitment_channel  no_of_trainings  age  previous_year_rating  \\\n",
       "0            sourcing                1   35                   5.0   \n",
       "1               other                1   30                   5.0   \n",
       "2            sourcing                1   34                   3.0   \n",
       "3               other                2   39                   1.0   \n",
       "4               other                1   45                   3.0   \n",
       "\n",
       "   length_of_service  KPIs_met >80%  awards_won?  avg_training_score  \\\n",
       "0                  8              1            0                  49   \n",
       "1                  4              0            0                  60   \n",
       "2                  7              0            0                  50   \n",
       "3                 10              0            0                  50   \n",
       "4                  2              0            0                  73   \n",
       "\n",
       "   is_promoted  \n",
       "0            0  \n",
       "1            0  \n",
       "2            0  \n",
       "3            0  \n",
       "4            0  "
      ]
     },
     "execution_count": 133,
     "metadata": {},
     "output_type": "execute_result"
    }
   ],
   "source": [
    "train.head()"
   ]
  },
  {
   "cell_type": "code",
   "execution_count": 134,
   "metadata": {
    "scrolled": true
   },
   "outputs": [
    {
     "name": "stdout",
     "output_type": "stream",
     "text": [
      "<class 'pandas.core.frame.DataFrame'>\n",
      "RangeIndex: 54808 entries, 0 to 54807\n",
      "Data columns (total 14 columns):\n",
      "employee_id             54808 non-null int64\n",
      "department              54808 non-null object\n",
      "region                  54808 non-null object\n",
      "education               52399 non-null object\n",
      "gender                  54808 non-null object\n",
      "recruitment_channel     54808 non-null object\n",
      "no_of_trainings         54808 non-null int64\n",
      "age                     54808 non-null int64\n",
      "previous_year_rating    50684 non-null float64\n",
      "length_of_service       54808 non-null int64\n",
      "KPIs_met >80%           54808 non-null int64\n",
      "awards_won?             54808 non-null int64\n",
      "avg_training_score      54808 non-null int64\n",
      "is_promoted             54808 non-null int64\n",
      "dtypes: float64(1), int64(8), object(5)\n",
      "memory usage: 5.9+ MB\n"
     ]
    }
   ],
   "source": [
    "train.info()"
   ]
  },
  {
   "cell_type": "code",
   "execution_count": 135,
   "metadata": {},
   "outputs": [
    {
     "data": {
      "text/plain": [
       "[]"
      ]
     },
     "execution_count": 135,
     "metadata": {},
     "output_type": "execute_result"
    }
   ],
   "source": [
    "def check_shape_mismatch(df1,df2):\n",
    "    a=[]\n",
    "    df1 = df1.select_dtypes(include = [object])\n",
    "    df2 = df2.select_dtypes(include = [object])\n",
    "    for c in df1.columns:\n",
    "        if c in df2.columns:\n",
    "            if sorted((df1[c].dropna().unique())) != sorted((df2[c].dropna().unique())):\n",
    "                a.append(c)\n",
    "    return(a)            \n",
    "check_shape_mismatch(train,test)           "
   ]
  },
  {
   "cell_type": "code",
   "execution_count": 136,
   "metadata": {},
   "outputs": [
    {
     "data": {
      "text/plain": [
       "False"
      ]
     },
     "execution_count": 136,
     "metadata": {},
     "output_type": "execute_result"
    }
   ],
   "source": [
    "list(train[\"education\"].dropna().unique()).sort() != list(test[\"education\"].dropna().unique()).sort()"
   ]
  },
  {
   "cell_type": "code",
   "execution_count": 137,
   "metadata": {},
   "outputs": [
    {
     "name": "stdout",
     "output_type": "stream",
     "text": [
      "<class 'pandas.core.frame.DataFrame'>\n",
      "RangeIndex: 23490 entries, 0 to 23489\n",
      "Data columns (total 13 columns):\n",
      "employee_id             23490 non-null int64\n",
      "department              23490 non-null object\n",
      "region                  23490 non-null object\n",
      "education               22456 non-null object\n",
      "gender                  23490 non-null object\n",
      "recruitment_channel     23490 non-null object\n",
      "no_of_trainings         23490 non-null int64\n",
      "age                     23490 non-null int64\n",
      "previous_year_rating    21678 non-null float64\n",
      "length_of_service       23490 non-null int64\n",
      "KPIs_met >80%           23490 non-null int64\n",
      "awards_won?             23490 non-null int64\n",
      "avg_training_score      23490 non-null int64\n",
      "dtypes: float64(1), int64(7), object(5)\n",
      "memory usage: 2.3+ MB\n"
     ]
    }
   ],
   "source": [
    "test.info()"
   ]
  },
  {
   "cell_type": "code",
   "execution_count": 138,
   "metadata": {},
   "outputs": [
    {
     "data": {
      "text/plain": [
       "0    50140\n",
       "1     4668\n",
       "Name: is_promoted, dtype: int64"
      ]
     },
     "execution_count": 138,
     "metadata": {},
     "output_type": "execute_result"
    }
   ],
   "source": [
    "train.is_promoted.value_counts()"
   ]
  },
  {
   "cell_type": "code",
   "execution_count": 139,
   "metadata": {},
   "outputs": [
    {
     "data": {
      "text/html": [
       "<div>\n",
       "<style scoped>\n",
       "    .dataframe tbody tr th:only-of-type {\n",
       "        vertical-align: middle;\n",
       "    }\n",
       "\n",
       "    .dataframe tbody tr th {\n",
       "        vertical-align: top;\n",
       "    }\n",
       "\n",
       "    .dataframe thead th {\n",
       "        text-align: right;\n",
       "    }\n",
       "</style>\n",
       "<table border=\"1\" class=\"dataframe\">\n",
       "  <thead>\n",
       "    <tr style=\"text-align: right;\">\n",
       "      <th></th>\n",
       "      <th>count</th>\n",
       "      <th>mean</th>\n",
       "      <th>std</th>\n",
       "      <th>min</th>\n",
       "      <th>25%</th>\n",
       "      <th>50%</th>\n",
       "      <th>75%</th>\n",
       "      <th>max</th>\n",
       "    </tr>\n",
       "  </thead>\n",
       "  <tbody>\n",
       "    <tr>\n",
       "      <th>employee_id</th>\n",
       "      <td>54808.0</td>\n",
       "      <td>39195.830627</td>\n",
       "      <td>22586.581449</td>\n",
       "      <td>1.0</td>\n",
       "      <td>19669.75</td>\n",
       "      <td>39225.5</td>\n",
       "      <td>58730.5</td>\n",
       "      <td>78298.0</td>\n",
       "    </tr>\n",
       "    <tr>\n",
       "      <th>no_of_trainings</th>\n",
       "      <td>54808.0</td>\n",
       "      <td>1.253011</td>\n",
       "      <td>0.609264</td>\n",
       "      <td>1.0</td>\n",
       "      <td>1.00</td>\n",
       "      <td>1.0</td>\n",
       "      <td>1.0</td>\n",
       "      <td>10.0</td>\n",
       "    </tr>\n",
       "    <tr>\n",
       "      <th>age</th>\n",
       "      <td>54808.0</td>\n",
       "      <td>34.803915</td>\n",
       "      <td>7.660169</td>\n",
       "      <td>20.0</td>\n",
       "      <td>29.00</td>\n",
       "      <td>33.0</td>\n",
       "      <td>39.0</td>\n",
       "      <td>60.0</td>\n",
       "    </tr>\n",
       "    <tr>\n",
       "      <th>previous_year_rating</th>\n",
       "      <td>50684.0</td>\n",
       "      <td>3.329256</td>\n",
       "      <td>1.259993</td>\n",
       "      <td>1.0</td>\n",
       "      <td>3.00</td>\n",
       "      <td>3.0</td>\n",
       "      <td>4.0</td>\n",
       "      <td>5.0</td>\n",
       "    </tr>\n",
       "    <tr>\n",
       "      <th>length_of_service</th>\n",
       "      <td>54808.0</td>\n",
       "      <td>5.865512</td>\n",
       "      <td>4.265094</td>\n",
       "      <td>1.0</td>\n",
       "      <td>3.00</td>\n",
       "      <td>5.0</td>\n",
       "      <td>7.0</td>\n",
       "      <td>37.0</td>\n",
       "    </tr>\n",
       "    <tr>\n",
       "      <th>KPIs_met &gt;80%</th>\n",
       "      <td>54808.0</td>\n",
       "      <td>0.351974</td>\n",
       "      <td>0.477590</td>\n",
       "      <td>0.0</td>\n",
       "      <td>0.00</td>\n",
       "      <td>0.0</td>\n",
       "      <td>1.0</td>\n",
       "      <td>1.0</td>\n",
       "    </tr>\n",
       "    <tr>\n",
       "      <th>awards_won?</th>\n",
       "      <td>54808.0</td>\n",
       "      <td>0.023172</td>\n",
       "      <td>0.150450</td>\n",
       "      <td>0.0</td>\n",
       "      <td>0.00</td>\n",
       "      <td>0.0</td>\n",
       "      <td>0.0</td>\n",
       "      <td>1.0</td>\n",
       "    </tr>\n",
       "    <tr>\n",
       "      <th>avg_training_score</th>\n",
       "      <td>54808.0</td>\n",
       "      <td>63.386750</td>\n",
       "      <td>13.371559</td>\n",
       "      <td>39.0</td>\n",
       "      <td>51.00</td>\n",
       "      <td>60.0</td>\n",
       "      <td>76.0</td>\n",
       "      <td>99.0</td>\n",
       "    </tr>\n",
       "    <tr>\n",
       "      <th>is_promoted</th>\n",
       "      <td>54808.0</td>\n",
       "      <td>0.085170</td>\n",
       "      <td>0.279137</td>\n",
       "      <td>0.0</td>\n",
       "      <td>0.00</td>\n",
       "      <td>0.0</td>\n",
       "      <td>0.0</td>\n",
       "      <td>1.0</td>\n",
       "    </tr>\n",
       "  </tbody>\n",
       "</table>\n",
       "</div>"
      ],
      "text/plain": [
       "                        count          mean           std   min       25%  \\\n",
       "employee_id           54808.0  39195.830627  22586.581449   1.0  19669.75   \n",
       "no_of_trainings       54808.0      1.253011      0.609264   1.0      1.00   \n",
       "age                   54808.0     34.803915      7.660169  20.0     29.00   \n",
       "previous_year_rating  50684.0      3.329256      1.259993   1.0      3.00   \n",
       "length_of_service     54808.0      5.865512      4.265094   1.0      3.00   \n",
       "KPIs_met >80%         54808.0      0.351974      0.477590   0.0      0.00   \n",
       "awards_won?           54808.0      0.023172      0.150450   0.0      0.00   \n",
       "avg_training_score    54808.0     63.386750     13.371559  39.0     51.00   \n",
       "is_promoted           54808.0      0.085170      0.279137   0.0      0.00   \n",
       "\n",
       "                          50%      75%      max  \n",
       "employee_id           39225.5  58730.5  78298.0  \n",
       "no_of_trainings           1.0      1.0     10.0  \n",
       "age                      33.0     39.0     60.0  \n",
       "previous_year_rating      3.0      4.0      5.0  \n",
       "length_of_service         5.0      7.0     37.0  \n",
       "KPIs_met >80%             0.0      1.0      1.0  \n",
       "awards_won?               0.0      0.0      1.0  \n",
       "avg_training_score       60.0     76.0     99.0  \n",
       "is_promoted               0.0      0.0      1.0  "
      ]
     },
     "execution_count": 139,
     "metadata": {},
     "output_type": "execute_result"
    }
   ],
   "source": [
    "train.describe().T"
   ]
  },
  {
   "cell_type": "code",
   "execution_count": 140,
   "metadata": {},
   "outputs": [],
   "source": [
    "train_cat = train.select_dtypes(include = [object])\n",
    "train_num = train.select_dtypes(include = [np.number])\n",
    "test_cat = test.select_dtypes(include = [object])\n",
    "test_num = test.select_dtypes(include = [np.number])"
   ]
  },
  {
   "cell_type": "code",
   "execution_count": 141,
   "metadata": {},
   "outputs": [
    {
     "data": {
      "text/plain": [
       "department                0\n",
       "region                    0\n",
       "education              2409\n",
       "gender                    0\n",
       "recruitment_channel       0\n",
       "dtype: int64"
      ]
     },
     "execution_count": 141,
     "metadata": {},
     "output_type": "execute_result"
    }
   ],
   "source": [
    "train_cat.isnull().sum()"
   ]
  },
  {
   "cell_type": "code",
   "execution_count": 142,
   "metadata": {},
   "outputs": [
    {
     "data": {
      "text/plain": [
       "employee_id                0\n",
       "no_of_trainings            0\n",
       "age                        0\n",
       "previous_year_rating    4124\n",
       "length_of_service          0\n",
       "KPIs_met >80%              0\n",
       "awards_won?                0\n",
       "avg_training_score         0\n",
       "is_promoted                0\n",
       "dtype: int64"
      ]
     },
     "execution_count": 142,
     "metadata": {},
     "output_type": "execute_result"
    }
   ],
   "source": [
    "train_num.isnull().sum()"
   ]
  },
  {
   "cell_type": "code",
   "execution_count": 143,
   "metadata": {},
   "outputs": [
    {
     "data": {
      "text/plain": [
       "(54808, 14)"
      ]
     },
     "execution_count": 143,
     "metadata": {},
     "output_type": "execute_result"
    }
   ],
   "source": [
    "train.shape"
   ]
  },
  {
   "cell_type": "code",
   "execution_count": 144,
   "metadata": {},
   "outputs": [
    {
     "name": "stderr",
     "output_type": "stream",
     "text": [
      "C:\\Users\\Lenovo\\Anaconda3\\lib\\site-packages\\ipykernel_launcher.py:2: SettingWithCopyWarning: \n",
      "A value is trying to be set on a copy of a slice from a DataFrame.\n",
      "Try using .loc[row_indexer,col_indexer] = value instead\n",
      "\n",
      "See the caveats in the documentation: http://pandas.pydata.org/pandas-docs/stable/indexing.html#indexing-view-versus-copy\n",
      "  \n",
      "C:\\Users\\Lenovo\\Anaconda3\\lib\\site-packages\\ipykernel_launcher.py:4: SettingWithCopyWarning: \n",
      "A value is trying to be set on a copy of a slice from a DataFrame.\n",
      "Try using .loc[row_indexer,col_indexer] = value instead\n",
      "\n",
      "See the caveats in the documentation: http://pandas.pydata.org/pandas-docs/stable/indexing.html#indexing-view-versus-copy\n",
      "  after removing the cwd from sys.path.\n"
     ]
    }
   ],
   "source": [
    "train_cat = train_cat.fillna(\"unknown\")   \n",
    "train_num['previous_year_rating'] = train_num.previous_year_rating.fillna(train_num.previous_year_rating.mean())\n",
    "test_cat = test_cat.fillna(\"unknown\")   \n",
    "test_num['previous_year_rating'] = test_num.previous_year_rating.fillna(test_num.previous_year_rating.mean())"
   ]
  },
  {
   "cell_type": "code",
   "execution_count": 145,
   "metadata": {},
   "outputs": [],
   "source": [
    "from sklearn.preprocessing import LabelEncoder\n",
    "le = LabelEncoder()\n",
    "train_cat[['education']] = train_cat[['education']].apply(lambda x: le.fit_transform(x))\n",
    "test_cat[['education']] = test_cat[['education']].apply(lambda x: le.fit_transform(x)) "
   ]
  },
  {
   "cell_type": "code",
   "execution_count": 146,
   "metadata": {},
   "outputs": [],
   "source": [
    "def create_dummies( a, colname ):\n",
    "    col_dummies = pd.get_dummies(a[colname], prefix=colname, drop_first=True)\n",
    "    a = pd.concat([a, col_dummies], axis=1)\n",
    "    a.drop( colname, axis = 1, inplace = True )\n",
    "    return a\n"
   ]
  },
  {
   "cell_type": "code",
   "execution_count": 147,
   "metadata": {},
   "outputs": [],
   "source": [
    "for c_feature in train_cat.columns.difference(['education']):\n",
    "    train_cat = create_dummies(train_cat , c_feature)\n",
    "    "
   ]
  },
  {
   "cell_type": "code",
   "execution_count": 148,
   "metadata": {},
   "outputs": [],
   "source": [
    "for c_feature in test_cat.columns.difference(['education']):\n",
    "    test_cat = create_dummies(test_cat , c_feature)\n",
    "    "
   ]
  },
  {
   "cell_type": "code",
   "execution_count": 149,
   "metadata": {},
   "outputs": [
    {
     "name": "stdout",
     "output_type": "stream",
     "text": [
      "(54808, 45)\n",
      "(23490, 45)\n"
     ]
    }
   ],
   "source": [
    "print(train_cat.shape)\n",
    "print(test_cat.shape)"
   ]
  },
  {
   "cell_type": "code",
   "execution_count": 150,
   "metadata": {},
   "outputs": [],
   "source": [
    "train_new = pd.concat([train_cat,train_num],axis=1)\n",
    "test_new = pd.concat([test_cat,test_num],axis=1)"
   ]
  },
  {
   "cell_type": "code",
   "execution_count": 159,
   "metadata": {},
   "outputs": [],
   "source": [
    "from sklearn.model_selection import train_test_split\n",
    "from sklearn import svm\n",
    "X_train,X_test,Y_train,Y_test = train_test_split(train_new[train_new.columns.difference([\"is_promoted\"])],train_new['is_promoted'],random_state=123,test_size=0.2)"
   ]
  },
  {
   "cell_type": "code",
   "execution_count": 172,
   "metadata": {},
   "outputs": [
    {
     "name": "stdout",
     "output_type": "stream",
     "text": [
      "0.9407954752782339\n"
     ]
    }
   ],
   "source": [
    "from sklearn import metrics\n",
    "from sklearn.ensemble import RandomForestClassifier\n",
    "rf = RandomForestClassifier(n_estimators = 1000, random_state = 42)\n",
    "rf.fit(X_train,Y_train)\n",
    "y_pred = rf.predict(X_test)\n",
    "print(metrics.accuracy_score(y_pred,Y_test))"
   ]
  },
  {
   "cell_type": "code",
   "execution_count": 173,
   "metadata": {},
   "outputs": [
    {
     "name": "stdout",
     "output_type": "stream",
     "text": [
      "[[10042    23]\n",
      " [  626   271]]\n",
      "0.6499165125679737\n"
     ]
    }
   ],
   "source": [
    "print(metrics.confusion_matrix(Y_test, y_pred))\n",
    "print(metrics.roc_auc_score(Y_test, y_pred))"
   ]
  },
  {
   "cell_type": "code",
   "execution_count": 174,
   "metadata": {},
   "outputs": [],
   "source": [
    "precision = 10042/(10042+626)\n",
    "recall = 10042/(10042+23)"
   ]
  },
  {
   "cell_type": "code",
   "execution_count": 175,
   "metadata": {},
   "outputs": [
    {
     "data": {
      "text/plain": [
       "0.9413198350206224"
      ]
     },
     "execution_count": 175,
     "metadata": {},
     "output_type": "execute_result"
    }
   ],
   "source": [
    "precision"
   ]
  },
  {
   "cell_type": "code",
   "execution_count": 176,
   "metadata": {},
   "outputs": [
    {
     "data": {
      "text/plain": [
       "0.9977148534525584"
      ]
     },
     "execution_count": 176,
     "metadata": {},
     "output_type": "execute_result"
    }
   ],
   "source": [
    "recall"
   ]
  },
  {
   "cell_type": "code",
   "execution_count": 177,
   "metadata": {},
   "outputs": [
    {
     "data": {
      "text/plain": [
       "0.9686972459364299"
      ]
     },
     "execution_count": 177,
     "metadata": {},
     "output_type": "execute_result"
    }
   ],
   "source": [
    "2*precision*recall/(precision + recall)"
   ]
  },
  {
   "cell_type": "code",
   "execution_count": 182,
   "metadata": {},
   "outputs": [
    {
     "data": {
      "text/plain": [
       "0.4550797649034425"
      ]
     },
     "execution_count": 182,
     "metadata": {},
     "output_type": "execute_result"
    }
   ],
   "source": [
    "metrics.f1_score(Y_test,y_pred)"
   ]
  },
  {
   "cell_type": "code",
   "execution_count": 162,
   "metadata": {},
   "outputs": [
    {
     "data": {
      "text/plain": [
       "0    10065\n",
       "1      897\n",
       "Name: is_promoted, dtype: int64"
      ]
     },
     "execution_count": 162,
     "metadata": {},
     "output_type": "execute_result"
    }
   ],
   "source": [
    "Y_test.value_counts()"
   ]
  },
  {
   "cell_type": "code",
   "execution_count": 164,
   "metadata": {},
   "outputs": [
    {
     "name": "stderr",
     "output_type": "stream",
     "text": [
      "C:\\Users\\Lenovo\\Anaconda3\\lib\\site-packages\\sklearn\\linear_model\\logistic.py:433: FutureWarning: Default solver will be changed to 'lbfgs' in 0.22. Specify a solver to silence this warning.\n",
      "  FutureWarning)\n"
     ]
    },
    {
     "name": "stdout",
     "output_type": "stream",
     "text": [
      "0.9181718664477285\n"
     ]
    }
   ],
   "source": [
    "from sklearn.linear_model import LogisticRegression\n",
    "clf=LogisticRegression().fit(X_train,Y_train)\n",
    "y_pred=clf.predict(X_test)\n",
    "from sklearn.metrics import accuracy_score\n",
    "print(accuracy_score(y_pred,Y_test))"
   ]
  },
  {
   "cell_type": "code",
   "execution_count": 165,
   "metadata": {},
   "outputs": [
    {
     "name": "stdout",
     "output_type": "stream",
     "text": [
      "[[10065     0]\n",
      " [  897     0]]\n",
      "0.5\n"
     ]
    }
   ],
   "source": [
    "print(metrics.confusion_matrix(Y_test, y_pred))\n",
    "print(metrics.roc_auc_score(Y_test, y_pred))"
   ]
  },
  {
   "cell_type": "code",
   "execution_count": 199,
   "metadata": {},
   "outputs": [],
   "source": [
    "y = train_new.is_promoted\n",
    "train_new.drop('is_promoted', axis =1, inplace = True)"
   ]
  },
  {
   "cell_type": "code",
   "execution_count": 200,
   "metadata": {},
   "outputs": [
    {
     "name": "stdout",
     "output_type": "stream",
     "text": [
      "[0]\tvalidation_0-auc:0.715988\tvalidation_1-auc:0.684973\n",
      "Multiple eval metrics have been passed: 'validation_1-auc' will be used for early stopping.\n",
      "\n",
      "Will train until validation_1-auc hasn't improved in 200 rounds.\n",
      "[200]\tvalidation_0-auc:0.926641\tvalidation_1-auc:0.909983\n",
      "[400]\tvalidation_0-auc:0.943313\tvalidation_1-auc:0.911371\n",
      "[600]\tvalidation_0-auc:0.951901\tvalidation_1-auc:0.911125\n",
      "Stopping. Best iteration:\n",
      "[496]\tvalidation_0-auc:0.947993\tvalidation_1-auc:0.911679\n",
      "\n",
      "err_lgm:  0.4916467780429595\n",
      "[0]\tvalidation_0-auc:0.714056\tvalidation_1-auc:0.712254\n",
      "Multiple eval metrics have been passed: 'validation_1-auc' will be used for early stopping.\n",
      "\n",
      "Will train until validation_1-auc hasn't improved in 200 rounds.\n",
      "[200]\tvalidation_0-auc:0.926031\tvalidation_1-auc:0.909491\n",
      "[400]\tvalidation_0-auc:0.942764\tvalidation_1-auc:0.914773\n",
      "[600]\tvalidation_0-auc:0.951304\tvalidation_1-auc:0.91561\n",
      "[800]\tvalidation_0-auc:0.959105\tvalidation_1-auc:0.915439\n",
      "Stopping. Best iteration:\n",
      "[641]\tvalidation_0-auc:0.953067\tvalidation_1-auc:0.915819\n",
      "\n",
      "err_lgm:  0.5219399538106235\n",
      "[0]\tvalidation_0-auc:0.713609\tvalidation_1-auc:0.720353\n",
      "Multiple eval metrics have been passed: 'validation_1-auc' will be used for early stopping.\n",
      "\n",
      "Will train until validation_1-auc hasn't improved in 200 rounds.\n",
      "[200]\tvalidation_0-auc:0.926147\tvalidation_1-auc:0.906359\n",
      "[400]\tvalidation_0-auc:0.943643\tvalidation_1-auc:0.911872\n",
      "[600]\tvalidation_0-auc:0.95255\tvalidation_1-auc:0.911014\n",
      "Stopping. Best iteration:\n",
      "[479]\tvalidation_0-auc:0.947643\tvalidation_1-auc:0.91222\n",
      "\n",
      "err_lgm:  0.5118483412322274\n",
      "[0]\tvalidation_0-auc:0.712168\tvalidation_1-auc:0.711751\n",
      "Multiple eval metrics have been passed: 'validation_1-auc' will be used for early stopping.\n",
      "\n",
      "Will train until validation_1-auc hasn't improved in 200 rounds.\n",
      "[200]\tvalidation_0-auc:0.924792\tvalidation_1-auc:0.901029\n",
      "[400]\tvalidation_0-auc:0.942624\tvalidation_1-auc:0.908078\n",
      "[600]\tvalidation_0-auc:0.951135\tvalidation_1-auc:0.910004\n",
      "[800]\tvalidation_0-auc:0.958263\tvalidation_1-auc:0.908869\n",
      "Stopping. Best iteration:\n",
      "[616]\tvalidation_0-auc:0.951585\tvalidation_1-auc:0.910235\n",
      "\n",
      "err_lgm:  0.4645476772616137\n",
      "[0]\tvalidation_0-auc:0.715279\tvalidation_1-auc:0.72351\n",
      "Multiple eval metrics have been passed: 'validation_1-auc' will be used for early stopping.\n",
      "\n",
      "Will train until validation_1-auc hasn't improved in 200 rounds.\n",
      "[200]\tvalidation_0-auc:0.927034\tvalidation_1-auc:0.907598\n",
      "[400]\tvalidation_0-auc:0.942807\tvalidation_1-auc:0.912864\n",
      "[600]\tvalidation_0-auc:0.951298\tvalidation_1-auc:0.913832\n",
      "[800]\tvalidation_0-auc:0.958746\tvalidation_1-auc:0.914634\n",
      "Stopping. Best iteration:\n",
      "[796]\tvalidation_0-auc:0.95862\tvalidation_1-auc:0.91466\n",
      "\n",
      "err_lgm:  0.5091743119266054\n",
      "[0]\tvalidation_0-auc:0.715108\tvalidation_1-auc:0.724534\n",
      "Multiple eval metrics have been passed: 'validation_1-auc' will be used for early stopping.\n",
      "\n",
      "Will train until validation_1-auc hasn't improved in 200 rounds.\n",
      "[200]\tvalidation_0-auc:0.926236\tvalidation_1-auc:0.910639\n",
      "[400]\tvalidation_0-auc:0.942952\tvalidation_1-auc:0.914678\n",
      "[600]\tvalidation_0-auc:0.951763\tvalidation_1-auc:0.916498\n",
      "[800]\tvalidation_0-auc:0.95835\tvalidation_1-auc:0.916663\n",
      "[1000]\tvalidation_0-auc:0.964169\tvalidation_1-auc:0.916656\n",
      "[1200]\tvalidation_0-auc:0.96868\tvalidation_1-auc:0.916438\n",
      "Stopping. Best iteration:\n",
      "[1046]\tvalidation_0-auc:0.965163\tvalidation_1-auc:0.916978\n",
      "\n",
      "err_lgm:  0.48699763593380613\n",
      "[0]\tvalidation_0-auc:0.717891\tvalidation_1-auc:0.686591\n",
      "Multiple eval metrics have been passed: 'validation_1-auc' will be used for early stopping.\n",
      "\n",
      "Will train until validation_1-auc hasn't improved in 200 rounds.\n",
      "[200]\tvalidation_0-auc:0.926319\tvalidation_1-auc:0.89502\n",
      "[400]\tvalidation_0-auc:0.943057\tvalidation_1-auc:0.903057\n",
      "[600]\tvalidation_0-auc:0.951772\tvalidation_1-auc:0.904333\n",
      "[800]\tvalidation_0-auc:0.958588\tvalidation_1-auc:0.905598\n",
      "[1000]\tvalidation_0-auc:0.964242\tvalidation_1-auc:0.905299\n",
      "Stopping. Best iteration:\n",
      "[903]\tvalidation_0-auc:0.961594\tvalidation_1-auc:0.905699\n",
      "\n",
      "err_lgm:  0.49282296650717705\n",
      "[0]\tvalidation_0-auc:0.72612\tvalidation_1-auc:0.74587\n",
      "Multiple eval metrics have been passed: 'validation_1-auc' will be used for early stopping.\n",
      "\n",
      "Will train until validation_1-auc hasn't improved in 200 rounds.\n",
      "[200]\tvalidation_0-auc:0.926832\tvalidation_1-auc:0.900239\n",
      "[400]\tvalidation_0-auc:0.943197\tvalidation_1-auc:0.899459\n",
      "Stopping. Best iteration:\n",
      "[200]\tvalidation_0-auc:0.926832\tvalidation_1-auc:0.900239\n",
      "\n",
      "err_lgm:  0.4400977995110024\n",
      "[0]\tvalidation_0-auc:0.713445\tvalidation_1-auc:0.717666\n",
      "Multiple eval metrics have been passed: 'validation_1-auc' will be used for early stopping.\n",
      "\n",
      "Will train until validation_1-auc hasn't improved in 200 rounds.\n",
      "[200]\tvalidation_0-auc:0.926526\tvalidation_1-auc:0.915601\n",
      "[400]\tvalidation_0-auc:0.942496\tvalidation_1-auc:0.920356\n",
      "[600]\tvalidation_0-auc:0.951174\tvalidation_1-auc:0.921593\n",
      "[800]\tvalidation_0-auc:0.958404\tvalidation_1-auc:0.921882\n",
      "[1000]\tvalidation_0-auc:0.96446\tvalidation_1-auc:0.922655\n",
      "Stopping. Best iteration:\n",
      "[950]\tvalidation_0-auc:0.963259\tvalidation_1-auc:0.922902\n",
      "\n",
      "err_lgm:  0.5425287356321838\n",
      "[0]\tvalidation_0-auc:0.713151\tvalidation_1-auc:0.697904\n",
      "Multiple eval metrics have been passed: 'validation_1-auc' will be used for early stopping.\n",
      "\n",
      "Will train until validation_1-auc hasn't improved in 200 rounds.\n",
      "[200]\tvalidation_0-auc:0.926453\tvalidation_1-auc:0.913413\n",
      "[400]\tvalidation_0-auc:0.943598\tvalidation_1-auc:0.913052\n",
      "Stopping. Best iteration:\n",
      "[335]\tvalidation_0-auc:0.938713\tvalidation_1-auc:0.913934\n",
      "\n",
      "err_lgm:  0.5130641330166271\n",
      "[0]\tvalidation_0-auc:0.715647\tvalidation_1-auc:0.695872\n",
      "Multiple eval metrics have been passed: 'validation_1-auc' will be used for early stopping.\n",
      "\n",
      "Will train until validation_1-auc hasn't improved in 200 rounds.\n",
      "[200]\tvalidation_0-auc:0.926497\tvalidation_1-auc:0.920393\n",
      "[400]\tvalidation_0-auc:0.943001\tvalidation_1-auc:0.918499\n",
      "Stopping. Best iteration:\n",
      "[216]\tvalidation_0-auc:0.927901\tvalidation_1-auc:0.92056\n",
      "\n",
      "err_lgm:  0.5153664302600472\n",
      "[0]\tvalidation_0-auc:0.714445\tvalidation_1-auc:0.710882\n",
      "Multiple eval metrics have been passed: 'validation_1-auc' will be used for early stopping.\n",
      "\n",
      "Will train until validation_1-auc hasn't improved in 200 rounds.\n",
      "[200]\tvalidation_0-auc:0.925778\tvalidation_1-auc:0.9141\n",
      "[400]\tvalidation_0-auc:0.942834\tvalidation_1-auc:0.918237\n",
      "[600]\tvalidation_0-auc:0.951952\tvalidation_1-auc:0.91819\n",
      "Stopping. Best iteration:\n",
      "[483]\tvalidation_0-auc:0.946951\tvalidation_1-auc:0.918591\n",
      "\n",
      "err_lgm:  0.5070422535211268\n",
      "[0]\tvalidation_0-auc:0.713594\tvalidation_1-auc:0.723938\n",
      "Multiple eval metrics have been passed: 'validation_1-auc' will be used for early stopping.\n",
      "\n",
      "Will train until validation_1-auc hasn't improved in 200 rounds.\n",
      "[200]\tvalidation_0-auc:0.926157\tvalidation_1-auc:0.914178\n",
      "[400]\tvalidation_0-auc:0.942447\tvalidation_1-auc:0.916078\n",
      "Stopping. Best iteration:\n",
      "[326]\tvalidation_0-auc:0.937777\tvalidation_1-auc:0.917703\n",
      "\n",
      "err_lgm:  0.5\n",
      "[0]\tvalidation_0-auc:0.714873\tvalidation_1-auc:0.707938\n",
      "Multiple eval metrics have been passed: 'validation_1-auc' will be used for early stopping.\n",
      "\n",
      "Will train until validation_1-auc hasn't improved in 200 rounds.\n",
      "[200]\tvalidation_0-auc:0.92648\tvalidation_1-auc:0.915864\n",
      "[400]\tvalidation_0-auc:0.943058\tvalidation_1-auc:0.917367\n",
      "[600]\tvalidation_0-auc:0.95136\tvalidation_1-auc:0.918002\n",
      "Stopping. Best iteration:\n",
      "[455]\tvalidation_0-auc:0.946034\tvalidation_1-auc:0.918274\n",
      "\n",
      "err_lgm:  0.4976303317535545\n",
      "[0]\tvalidation_0-auc:0.715031\tvalidation_1-auc:0.70801\n",
      "Multiple eval metrics have been passed: 'validation_1-auc' will be used for early stopping.\n",
      "\n",
      "Will train until validation_1-auc hasn't improved in 200 rounds.\n",
      "[200]\tvalidation_0-auc:0.927055\tvalidation_1-auc:0.900425\n",
      "[400]\tvalidation_0-auc:0.943296\tvalidation_1-auc:0.90396\n",
      "[600]\tvalidation_0-auc:0.952165\tvalidation_1-auc:0.905179\n",
      "[800]\tvalidation_0-auc:0.959172\tvalidation_1-auc:0.90577\n",
      "Stopping. Best iteration:\n",
      "[763]\tvalidation_0-auc:0.958075\tvalidation_1-auc:0.905923\n",
      "\n",
      "err_lgm:  0.4929577464788732\n"
     ]
    }
   ],
   "source": [
    "from xgboost import XGBClassifier\n",
    "err = []\n",
    "y_pred_tot_lgm = []\n",
    "\n",
    "from sklearn.model_selection import StratifiedKFold\n",
    "\n",
    "fold = StratifiedKFold(n_splits=15)\n",
    "i = 1\n",
    "for train_index, test_index in fold.split(train_new,y):\n",
    "    X_train, x_val = train_new.iloc[train_index], train_new.iloc[test_index]\n",
    "    Y_train, y_val =y[train_index], y[test_index]\n",
    "    m = XGBClassifier(boosting_type='gbdt',\n",
    "                       max_depth=5,\n",
    "                       learning_rate=0.05,\n",
    "                       n_estimators=5000,\n",
    "                       min_child_weight=0.01,\n",
    "                       colsample_bytree=0.5,\n",
    "                       random_state=1994)\n",
    "    m.fit(X_train, Y_train,\n",
    "          eval_set=[(X_train,Y_train),(x_val, y_val)],\n",
    "          early_stopping_rounds=200,\n",
    "          eval_metric='auc',\n",
    "          verbose=200)\n",
    "    pred_y = m.predict_proba(x_val)[:,1]\n",
    "    print(\"err_lgm: \",metrics.f1_score(y_val,pred_y.round()))\n",
    "    err.append(metrics.f1_score(y_val, pred_y.round()))\n",
    "    pred_test = m.predict(test_new)\n",
    "    i = i + 1\n",
    "    y_pred_tot_lgm.append(pred_test)\n",
    "\n"
   ]
  },
  {
   "cell_type": "code",
   "execution_count": 193,
   "metadata": {},
   "outputs": [
    {
     "data": {
      "text/plain": [
       "0.5028840360543202"
      ]
     },
     "execution_count": 193,
     "metadata": {},
     "output_type": "execute_result"
    }
   ],
   "source": [
    "np.mean(err)"
   ]
  },
  {
   "cell_type": "code",
   "execution_count": 205,
   "metadata": {},
   "outputs": [],
   "source": [
    "final = pd.DataFrame([test_new.employee_id,pd.Series(y_pred_tot_lgm[8])]).T\n",
    "final.columns = ['employee_id','is_promoted']"
   ]
  },
  {
   "cell_type": "code",
   "execution_count": 209,
   "metadata": {},
   "outputs": [],
   "source": [
    "final.to_csv(\"final1.csv\",index=False)"
   ]
  },
  {
   "cell_type": "code",
   "execution_count": 197,
   "metadata": {},
   "outputs": [
    {
     "data": {
      "text/plain": [
       "Index(['education', 'department_Finance', 'department_HR', 'department_Legal',\n",
       "       'department_Operations', 'department_Procurement', 'department_R&D',\n",
       "       'department_Sales & Marketing', 'department_Technology', 'gender_m',\n",
       "       'recruitment_channel_referred', 'recruitment_channel_sourcing',\n",
       "       'region_region_10', 'region_region_11', 'region_region_12',\n",
       "       'region_region_13', 'region_region_14', 'region_region_15',\n",
       "       'region_region_16', 'region_region_17', 'region_region_18',\n",
       "       'region_region_19', 'region_region_2', 'region_region_20',\n",
       "       'region_region_21', 'region_region_22', 'region_region_23',\n",
       "       'region_region_24', 'region_region_25', 'region_region_26',\n",
       "       'region_region_27', 'region_region_28', 'region_region_29',\n",
       "       'region_region_3', 'region_region_30', 'region_region_31',\n",
       "       'region_region_32', 'region_region_33', 'region_region_34',\n",
       "       'region_region_4', 'region_region_5', 'region_region_6',\n",
       "       'region_region_7', 'region_region_8', 'region_region_9', 'employee_id',\n",
       "       'no_of_trainings', 'age', 'previous_year_rating', 'length_of_service',\n",
       "       'KPIs_met >80%', 'awards_won?', 'avg_training_score', 'is_promoted'],\n",
       "      dtype='object')"
      ]
     },
     "execution_count": 197,
     "metadata": {},
     "output_type": "execute_result"
    }
   ],
   "source": [
    "train_new.columns"
   ]
  },
  {
   "cell_type": "code",
   "execution_count": 198,
   "metadata": {},
   "outputs": [
    {
     "data": {
      "text/plain": [
       "Index(['education', 'department_Finance', 'department_HR', 'department_Legal',\n",
       "       'department_Operations', 'department_Procurement', 'department_R&D',\n",
       "       'department_Sales & Marketing', 'department_Technology', 'gender_m',\n",
       "       'recruitment_channel_referred', 'recruitment_channel_sourcing',\n",
       "       'region_region_10', 'region_region_11', 'region_region_12',\n",
       "       'region_region_13', 'region_region_14', 'region_region_15',\n",
       "       'region_region_16', 'region_region_17', 'region_region_18',\n",
       "       'region_region_19', 'region_region_2', 'region_region_20',\n",
       "       'region_region_21', 'region_region_22', 'region_region_23',\n",
       "       'region_region_24', 'region_region_25', 'region_region_26',\n",
       "       'region_region_27', 'region_region_28', 'region_region_29',\n",
       "       'region_region_3', 'region_region_30', 'region_region_31',\n",
       "       'region_region_32', 'region_region_33', 'region_region_34',\n",
       "       'region_region_4', 'region_region_5', 'region_region_6',\n",
       "       'region_region_7', 'region_region_8', 'region_region_9', 'employee_id',\n",
       "       'no_of_trainings', 'age', 'previous_year_rating', 'length_of_service',\n",
       "       'KPIs_met >80%', 'awards_won?', 'avg_training_score'],\n",
       "      dtype='object')"
      ]
     },
     "execution_count": 198,
     "metadata": {},
     "output_type": "execute_result"
    }
   ],
   "source": [
    "test_new.columns"
   ]
  },
  {
   "cell_type": "code",
   "execution_count": null,
   "metadata": {},
   "outputs": [],
   "source": []
  }
 ],
 "metadata": {
  "kernelspec": {
   "display_name": "Python 3",
   "language": "python",
   "name": "python3"
  },
  "language_info": {
   "codemirror_mode": {
    "name": "ipython",
    "version": 3
   },
   "file_extension": ".py",
   "mimetype": "text/x-python",
   "name": "python",
   "nbconvert_exporter": "python",
   "pygments_lexer": "ipython3",
   "version": "3.7.3"
  }
 },
 "nbformat": 4,
 "nbformat_minor": 2
}
